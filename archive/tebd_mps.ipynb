{
  "cells": [
    {
      "cell_type": "markdown",
      "metadata": {
        "colab_type": "text",
        "id": "view-in-github"
      },
      "source": [
        "<a href=\"https://colab.research.google.com/github/malee4/tensornet_basics/blob/main/tebd_mps.ipynb\" target=\"_parent\"><img src=\"https://colab.research.google.com/assets/colab-badge.svg\" alt=\"Open In Colab\"/></a>"
      ]
    },
    {
      "cell_type": "markdown",
      "metadata": {
        "id": "VW5-jmcn_6PA"
      },
      "source": [
        "The following code is meant to demonstrate how Tensornet interacts with quantum-related computations.\n",
        "\n",
        "This implementation is based off of the sample code provided by [Tensors.net](https://www.tensors.net/mps), based on the [time evolving block decimation algorithm](https://arxiv.org/pdf/quant-ph/0310089.pdf).\n",
        "\n",
        "Based on the suzuki-trotte decomposition of a local Hamiltonian."
      ]
    },
    {
      "cell_type": "code",
      "execution_count": null,
      "metadata": {
        "colab": {
          "base_uri": "https://localhost:8080/"
        },
        "id": "UHluoJsS_0oT",
        "outputId": "c5983656-1ef6-4efb-fecf-225799316dcc"
      },
      "outputs": [
        {
          "name": "stdout",
          "output_type": "stream",
          "text": [
            "Requirement already satisfied: ncon in /usr/local/lib/python3.10/dist-packages (2.0.0)\n",
            "Requirement already satisfied: numpy>=1.11.0 in /usr/local/lib/python3.10/dist-packages (from ncon) (1.25.2)\n"
          ]
        }
      ],
      "source": [
        "import numpy as np\n",
        "from numpy import linalg as LA\n",
        "from scipy.linalg import expm\n",
        "from scipy.sparse.linalg import LinearOperator, eigs\n",
        "!pip install ncon\n",
        "from ncon import ncon\n",
        "from typing import Optional"
      ]
    },
    {
      "cell_type": "code",
      "execution_count": null,
      "metadata": {
        "id": "_hCAK5CUASOr"
      },
      "outputs": [],
      "source": [
        "d = 2\n",
        "chi = 10\n",
        "A = np.random.rand(chi, d, chi)\n",
        "B = np.random.rand(chi, d, chi)\n",
        "sAB = np.ones(chi) / np.sqrt(chi) # this will set random initial weights\n",
        "sBA = np.ones(chi) / np.sqrt(chi)"
      ]
    },
    {
      "cell_type": "markdown",
      "metadata": {
        "id": "scdwdwL_AtRG"
      },
      "source": [
        "The following code will simulate certain quantum many-body dynamics. \"Many body\" systems describe a system in which there exist some n number of quantum objects, in which their interactions and associated probabilities must be taken into account.\n",
        "\n",
        "In this case, since we focus on many-body dynamics, we seek to implement real or imaginary time evolution of the MPS, or matrix product state."
      ]
    },
    {
      "cell_type": "markdown",
      "metadata": {
        "id": "CQgr5BSXDETT"
      },
      "source": [
        "In many cases, tensor networks seek to estimate what values are expected locally (within some given bound). However, it is incredibly difficult to do so when we are operating with an infinite matrix product state, and so we seek to \"contract\" this MPS. That is, we seek to reduce the order of the tensor by mapping some of the values to some reduced, corresponding value in the resultant contracted tensor. This is not a very useful definition.\n",
        "\n",
        "Suppose, instead, that we seek to describe the product of some 3x2 matrix and some 2x1 matrix. Then the contraction of this matrix is the sum of the 3x2 matrix times the 1st element in the second matrix and the 3x2 matrix times the 2nd element in the second matrix. It is a decomposition of sorts.\n",
        "\n",
        "To address this, we introduce the concept of \"environment tensors\", denoted by sigma and mu, that approximately describe the tensors should they extend infinitely.\n",
        "\n",
        "These environment tensors may be found by first initializing some random tensors, and then iteratively applying transfer operators until the values converge within some tolerance.\n",
        "\n"
      ]
    },
    {
      "cell_type": "code",
      "execution_count": null,
      "metadata": {
        "id": "yTEnb7jdDEEu"
      },
      "outputs": [],
      "source": [
        "## initialize random tensors\n",
        "sigBA = np.random.rand(chi, chi)\n",
        "tol = 1e-10 # convergence tolerance (that is, if the change < tol, then end)"
      ]
    },
    {
      "cell_type": "code",
      "execution_count": null,
      "metadata": {
        "colab": {
          "base_uri": "https://localhost:8080/"
        },
        "id": "fCurUmv2As9L",
        "outputId": "63b7b5e5-ac90-407f-c377-a378e3e88e41"
      },
      "outputs": [
        {
          "name": "stdout",
          "output_type": "stream",
          "text": [
            "iteration: 0, diff: 4.530314e+00\n",
            "iteration: 1, diff: 2.342687e-03\n",
            "iteration: 2, diff: 3.339047e-05\n",
            "iteration: 3, diff: 3.626797e-07\n",
            "iteration: 4, diff: 4.022499e-09\n",
            "Convergence reached.\n"
          ]
        }
      ],
      "source": [
        "# we now define the tensor network\n",
        "tensors = [np.diag(sBA), np.diag(sBA), A, A.conj(), np.diag(sAB), np.diag(sAB), B, B.conj()]\n",
        "labels = [[1,2],[1,3],[2,4],[3,5,6],[4,5,7],[6,8],[7,9],[8,10,-1],[9,10,-2]]\n",
        "\n",
        "max_iter = 1000\n",
        "for k in range(max_iter):\n",
        "  # we define the transfer operator\n",
        "  sigBA_new = ncon([sigBA, *tensors], labels)\n",
        "  sigBA_new = sigBA_new / np.trace(sigBA_new) # normalize it\n",
        "\n",
        "  # check for convergence\n",
        "  if LA.norm(sigBA - sigBA_new) < tol:\n",
        "    print(\"Convergence reached.\")\n",
        "    break\n",
        "  else:\n",
        "    print(\"iteration: %d, diff: %e\" % (k, LA.norm(sigBA - sigBA_new)))\n",
        "    sigBA = sigBA_new"
      ]
    },
    {
      "cell_type": "markdown",
      "metadata": {
        "id": "_BXEhjpSHgZr"
      },
      "source": [
        "Here's the fun thing! Notice that the environment tensors sigma and mu are \"dominant eigenvectors\" for the transfer operators applied on the left and right.\n",
        "\n",
        "We will use the ARPACK 'eigs' function to contract the MPS using these identified environment tensors."
      ]
    },
    {
      "cell_type": "code",
      "execution_count": null,
      "metadata": {
        "id": "2u52B33cHf0v"
      },
      "outputs": [],
      "source": [
        "def left_contract_MPS(sigBA, sBA, A, sAB, B):\n",
        "  # initialize the starting vector\n",
        "  chiBA = A.shape[0]\n",
        "  if sigBA.shape[0] == chiBA:\n",
        "    v0 = sigBA.reshape(np.prod(sigBA.shape))\n",
        "  else:\n",
        "    v0 = (np.eye(chiBA) / chiBA).reshape(chiBA**2)\n",
        "\n",
        "  # define network for transfer operator contract\n",
        "  tensors = [np.diag(sBA), np.diag(sBA), A, A.conj(), np.diag(sAB),\n",
        "             np.diag(sAB), B, B.conj()]\n",
        "  labels = [[1, 2], [1, 3], [2, 4], [3, 5, 6], [4, 5, 7], [6, 8], [7, 9],\n",
        "            [8, 10, -1], [9, 10, -2]]\n",
        "\n",
        "  # define the function for boundary contraction and then pass it to the predefined method eigs\n",
        "  def left_iter(sigBA):\n",
        "    return ncon([sigBA.reshape([chiBA, chiBA]), *tensors],\n",
        "                labels).reshape([chiBA**2,1])\n",
        "  Dtemp, sigBA = eigs(LinearOperator((chiBA**2, chiBA**2),\n",
        "                                     matvec=left_iter), k=1, which='LM', v0=v0, tol=tol)\n",
        "  # normalize\n",
        "  if np.isrealobj(A):\n",
        "    sigBA = np.real(sigBA)\n",
        "  sigBA = sigBA.reshape(chiBA, chiBA)\n",
        "  sigBA = 0.5 * (sigBA + np.conj(sigBA.T))\n",
        "  sigBA = sigBA / np.trace(sigBA)\n",
        "\n",
        "  # compute the density matrix for the A-B link in the tensor network\n",
        "  sigAB = ncon([sigBA, np.diag(sBA), np.diag(sBA), A, np.conj(A)],\n",
        "               [[1, 2], [1, 3], [2, 4], [3, 5, -1], [4, 5, -2]])\n",
        "  sigAB = sigAB / np.trace(sigAB)\n",
        "\n",
        "  return sigBA, sigAB"
      ]
    },
    {
      "cell_type": "code",
      "execution_count": null,
      "metadata": {
        "id": "6qBt-nVQKldF"
      },
      "outputs": [],
      "source": [
        "def right_contract_MPS(muAB, sBA, A, sAB, B):\n",
        "  # again, initialize starting vector\n",
        "  chiAB = A.shape[2]\n",
        "  if muAB.shape[0] == chiAB:\n",
        "    v0 = muAB.reshape(np.prod(muAB.shape))\n",
        "  else:\n",
        "    v0 = (np.eye(chiAB)/chiAB).reshape(chiAB**2)\n",
        "\n",
        "  # define tensors\n",
        "  tensors = [np.diag(sAB), np.diag(sAB), A, A.conj(), np.diag(sBA),\n",
        "             np.diag(sBA), B, B.conj()]\n",
        "  labels = [[1, 2], [3, 1], [5, 2], [6, 4, 3], [7, 4, 5], [8, 6], [10, 7],\n",
        "            [-1, 9, 8], [-2, 9, 10]]\n",
        "\n",
        "  def right_iter(muAB):\n",
        "      return ncon([muAB.reshape([chiAB, chiAB]), *tensors],\n",
        "                labels).reshape([chiAB**2, 1])\n",
        "  Dtemp, muAB = eigs(LinearOperator((chiAB**2, chiAB**2), matvec=right_iter),\n",
        "                     k=1, which='LM', v0=v0, tol=tol)\n",
        "\n",
        "  # normalize\n",
        "  if np.isrealobj(A):\n",
        "    muAB = np.real(muAB)\n",
        "  muAB = muAB.reshape(chiAB, chiAB)\n",
        "  muAB = 0.5 * (muAB + np.conj(muAB.T))\n",
        "  muAB = muAB / np.trace(muAB)\n",
        "\n",
        "  # density matrix for B-A link in tensor network\n",
        "  muBA = ncon([muAB, np.diag(sAB), np.diag(sAB), A, A.conj()],\n",
        "              [[1, 2], [3, 1], [5, 2], [-1, 4, 3], [-2, 4, 5]])\n",
        "  muBA = muBA / np.trace(muBA)\n",
        "\n",
        "  return muAB, muBA\n"
      ]
    },
    {
      "cell_type": "code",
      "execution_count": null,
      "metadata": {
        "id": "6rS2Nu8bLVOB"
      },
      "outputs": [],
      "source": [
        "# set the MPS gauge across B-A link to the canonical form\n",
        "def orthog_MPS(sigBA, muBA, B, sBA, A, dtol=1e-12):\n",
        "  # diagonalize left environment\n",
        "  dtemp, utemp = LA.eigh(sigBA)\n",
        "  chitemp = sum(dtemp > dtol)\n",
        "  DL = dtemp[range(-1, -chitemp - 1, -1)]\n",
        "  UL = utemp[:, range(-1, -chitemp - 1, -1)]\n",
        "\n",
        "  # diagonalize right environment\n",
        "  dtemp, utemp = LA.eigh(muBA)\n",
        "  chitemp = sum(dtemp > dtol)\n",
        "  DR = dtemp[range(-1, -chitemp - 1, -1)]\n",
        "  UR = utemp[:, range(-1, -chitemp - 1, -1)]\n",
        "\n",
        "  # compute new weights for B-A link\n",
        "  weighted_mat = (np.diag(np.sqrt(DL)) @ UL.T @ np.diag(sBA)\n",
        "                  @ UR @ np.diag(np.sqrt(DR)))\n",
        "  UBA, stemp, VhBA = LA.svd(weighted_mat, full_matrices=False)\n",
        "  sBA = stemp / LA.norm(stemp)\n",
        "\n",
        "  # build x,y gauge change matrices, implement gauge change on A and B\n",
        "  x = np.conj(UL) @ np.diag(1 / np.sqrt(DL)) @ UBA\n",
        "  y = np.conj(UR) @ np.diag(1 / np.sqrt(DR)) @ VhBA.T\n",
        "  A = ncon([y, A], [[1, -1], [1, -2, -3]])\n",
        "  B = ncon([B, x], [[-1, -2, 2], [2, -3]])\n",
        "\n",
        "  return B, sBA, A"
      ]
    },
    {
      "cell_type": "code",
      "execution_count": null,
      "metadata": {
        "id": "nVdmJWzb5uTh"
      },
      "outputs": [],
      "source": [
        "def apply_gate_MPS(gateAB, A, sAB, B, sBA, chi, stol=1e-7):\n",
        "  \"\"\" apply a gate to an MPS across and a A-B link. Truncate the MPS back to\n",
        "  some desired dimension chi\"\"\"\n",
        "\n",
        "  # ensure singular values are above tolerance threshold\n",
        "  sBA_trim = sBA * (sBA > stol) + stol * (sBA < stol)\n",
        "\n",
        "  # contract gate into the MPS, then deompose composite tensor with SVD\n",
        "  d = A.shape[1]\n",
        "  chiBA = sBA_trim.shape[0]\n",
        "  tensors = [np.diag(sBA_trim), A, np.diag(sAB), B, np.diag(sBA_trim), gateAB]\n",
        "  connects = [[-1, 1], [1, 5, 2], [2, 4], [4, 6, 3], [3, -4], [-2, -3, 5, 6]]\n",
        "  nshape = [d * chiBA, d * chiBA]\n",
        "  utemp, stemp, vhtemp = LA.svd(ncon(tensors, connects).reshape(nshape),\n",
        "                                full_matrices=False)\n",
        "\n",
        "  # truncate to reduced dimension\n",
        "  chitemp = min(chi, len(stemp))\n",
        "  utemp = utemp[:, range(chitemp)].reshape(sBA_trim.shape[0], d * chitemp)\n",
        "  vhtemp = vhtemp[range(chitemp), :].reshape(chitemp * d, chiBA)\n",
        "\n",
        "  # remove environment weights to form new MPS tensors A and B\n",
        "  A = (np.diag(1 / sBA_trim) @ utemp).reshape(sBA_trim.shape[0], d, chitemp)\n",
        "  B = (vhtemp @ np.diag(1 / sBA_trim)).reshape(chitemp, d, chiBA)\n",
        "\n",
        "  # new weights\n",
        "  sAB = stemp[range(chitemp)] / LA.norm(stemp[range(chitemp)])\n",
        "\n",
        "  return A, sAB, B"
      ]
    },
    {
      "cell_type": "code",
      "execution_count": null,
      "metadata": {
        "id": "Ilq4Dsg55o8-"
      },
      "outputs": [],
      "source": [
        "def doTEBD(hamAB: np.ndarray,\n",
        "           hamBA: np.ndarray,\n",
        "           A: np.ndarray,\n",
        "           B: np.ndarray,\n",
        "           sAB: np.ndarray,\n",
        "           sBA: np.ndarray,\n",
        "           chi: int,\n",
        "           tau: float,\n",
        "           evotype: Optional[str] = 'imag',\n",
        "           numiter: Optional[int] = 1000,\n",
        "           midsteps: Optional[int] = 10,\n",
        "           E0: Optional[float] = 0.0):\n",
        "  \"\"\"\n",
        "  Implementation of time evolution (real or imaginary) for MPS with 2-site unit\n",
        "  cell (A-B), based on TEBD algorithm.\n",
        "  Args:\n",
        "    hamAB: nearest neighbor Hamiltonian coupling for A-B sites.\n",
        "    hamBA: nearest neighbor Hamiltonian coupling for B-A sites.\n",
        "    A: MPS tensor for A-sites of lattice.\n",
        "    B: MPS tensor for B-sites of lattice.\n",
        "    sAB: vector of weights for A-B links.\n",
        "    sBA: vector of weights for B-A links.\n",
        "    chi: maximum bond dimension of MPS.\n",
        "    tau: time-step of evolution.\n",
        "    evotype: set real (evotype='real') or imaginary (evotype='imag') evolution.\n",
        "    numiter: number of time-step iterations to take.\n",
        "    midsteps: number of time-steps between re-orthogonalization of the MPS.\n",
        "    E0: specify the ground energy (if known).\n",
        "  Returns:\n",
        "    np.ndarray: MPS tensor for A-sites;\n",
        "    np.ndarray: MPS tensor for B-sites;\n",
        "    np.ndarray: vector sAB of weights for A-B links.\n",
        "    np.ndarray: vector sBA of weights for B-A links.\n",
        "    np.ndarray: two-site reduced density matrix rhoAB for A-B sites\n",
        "    np.ndarray: two-site reduced density matrix rhoAB for B-A sites\n",
        "  \"\"\"\n",
        "\n",
        "  # exponentiate Hamiltonian\n",
        "  d = A.shape[1]\n",
        "  if evotype == \"real\":\n",
        "    gateAB = expm(1j * tau * hamAB.reshape(d**2, d**2)).reshape(d, d, d, d)\n",
        "    gateBA = expm(1j * tau * hamBA.reshape(d**2, d**2)).reshape(d, d, d, d)\n",
        "  elif evotype == \"imag\":\n",
        "    gateAB = expm(-tau * hamAB.reshape(d**2, d**2)).reshape(d, d, d, d)\n",
        "    gateBA = expm(-tau * hamBA.reshape(d**2, d**2)).reshape(d, d, d, d)\n",
        "\n",
        "  # initialize environment matrices\n",
        "  sigBA = np.eye(A.shape[0]) / A.shape[0]\n",
        "  muAB = np.eye(A.shape[2]) / A.shape[2]\n",
        "\n",
        "  for k in range(numiter + 1):\n",
        "    if np.mod(k, midsteps) == 0 or (k == numiter):\n",
        "      \"\"\" Bring MPS to normal form \"\"\"\n",
        "\n",
        "      # contract MPS from left and right\n",
        "      sigBA, sigAB = left_contract_MPS(sigBA, sBA, A, sAB, B)\n",
        "      muAB, muBA = right_contract_MPS(muAB, sBA, A, sAB, B)\n",
        "\n",
        "      # orthogonalise A-B and B-A links\n",
        "      B, sBA, A = orthog_MPS(sigBA, muBA, B, sBA, A)\n",
        "      A, sAB, B = orthog_MPS(sigAB, muAB, A, sAB, B)\n",
        "\n",
        "      # normalize the MPS tensors\n",
        "      A_norm = np.sqrt(ncon([np.diag(sBA**2), A, np.conj(A), np.diag(sAB**2)],\n",
        "                            [[1, 3], [1, 4, 2], [3, 4, 5], [2, 5]]))\n",
        "      A = A / A_norm\n",
        "      B_norm = np.sqrt(ncon([np.diag(sAB**2), B, np.conj(B), np.diag(sBA**2)],\n",
        "                            [[1, 3], [1, 4, 2], [3, 4, 5], [2, 5]]))\n",
        "      B = B / B_norm\n",
        "\n",
        "      \"\"\" Compute energy and display \"\"\"\n",
        "\n",
        "      # compute 2-site local reduced density matrices\n",
        "      rhoAB, rhoBA = loc_density_MPS(A, sAB, B, sBA)\n",
        "\n",
        "      # evaluate the energy\n",
        "      energyAB = ncon([hamAB, rhoAB], [[1, 2, 3, 4], [1, 2, 3, 4]])\n",
        "      energyBA = ncon([hamBA, rhoBA], [[1, 2, 3, 4], [1, 2, 3, 4]])\n",
        "      energy = 0.5 * (energyAB + energyBA)\n",
        "\n",
        "      chitemp = min(A.shape[0], B.shape[0])\n",
        "      enDiff = energy - E0\n",
        "      print('iteration: %d of %d, chi: %d, t-step: %f, energy: %f, '\n",
        "            'energy error: %e' % (k, numiter, chitemp, tau, energy, enDiff))\n",
        "\n",
        "    \"\"\" Do evolution of MPS through one time-step \"\"\"\n",
        "    if k < numiter:\n",
        "      # apply gate to A-B link\n",
        "      A, sAB, B = apply_gate_MPS(gateAB, A, sAB, B, sBA, chi)\n",
        "\n",
        "      # apply gate to B-A link\n",
        "      B, sBA, A = apply_gate_MPS(gateBA, B, sBA, A, sAB, chi)\n",
        "\n",
        "  rhoAB, rhoBA = loc_density_MPS(A, sAB, B, sBA)\n",
        "  return A, B, sAB, sBA, rhoAB, rhoBA"
      ]
    },
    {
      "cell_type": "code",
      "execution_count": null,
      "metadata": {
        "id": "28zzr6L45swc"
      },
      "outputs": [],
      "source": [
        "def loc_density_MPS(A, sAB, B, sBA):\n",
        "  \"\"\" Compute the local reduced density matrices from an MPS (assumend to be\n",
        "  in canonical form).\"\"\"\n",
        "\n",
        "  # recast singular weights into a matrix\n",
        "  mAB = np.diag(sAB)\n",
        "  mBA = np.diag(sBA)\n",
        "\n",
        "  # contract MPS for local reduced density matrix (A-B)\n",
        "  tensors = [np.diag(sBA**2), A, A.conj(), mAB, mAB, B, B.conj(),\n",
        "             np.diag(sBA**2)]\n",
        "  connects = [[3, 4], [3, -3, 1], [4, -1, 2], [1, 7], [2, 8], [7, -4, 5],\n",
        "              [8, -2, 6], [5, 6]]\n",
        "  rhoAB = ncon(tensors, connects)\n",
        "\n",
        "  # contract MPS for local reduced density matrix (B-A)\n",
        "  tensors = [np.diag(sAB**2), B, B.conj(), mBA, mBA, A, A.conj(),\n",
        "             np.diag(sAB**2)]\n",
        "  connects = [[3, 4], [3, -3, 1], [4, -1, 2], [1, 7], [2, 8], [7, -4, 5],\n",
        "              [8, -2, 6], [5, 6]]\n",
        "  rhoBA = ncon(tensors, connects)\n",
        "\n",
        "  return rhoAB, rhoBA"
      ]
    },
    {
      "cell_type": "markdown",
      "metadata": {
        "id": "e-7j8gik7jLK"
      },
      "source": [
        "Here is the XX model that is run: [arXiv](https://arxiv.org/abs/1808.01993)"
      ]
    },
    {
      "cell_type": "code",
      "execution_count": null,
      "metadata": {
        "colab": {
          "base_uri": "https://localhost:8080/"
        },
        "id": "uvih4zT45y5d",
        "outputId": "96c18160-7166-4320-f453-2dfa5943b407"
      },
      "outputs": [
        {
          "name": "stdout",
          "output_type": "stream",
          "text": [
            "iteration: 0 of 500, chi: 16, t-step: 0.100000, energy: 0.991696, energy error: 2.264936e+00\n",
            "iteration: 10 of 500, chi: 16, t-step: 0.100000, energy: -1.251070, energy error: 2.216915e-02\n",
            "iteration: 20 of 500, chi: 16, t-step: 0.100000, energy: -1.262657, energy error: 1.058264e-02\n",
            "iteration: 30 of 500, chi: 16, t-step: 0.100000, energy: -1.263935, energy error: 9.304783e-03\n",
            "iteration: 40 of 500, chi: 16, t-step: 0.100000, energy: -1.264325, energy error: 8.914225e-03\n",
            "iteration: 50 of 500, chi: 16, t-step: 0.100000, energy: -1.264481, energy error: 8.758441e-03\n",
            "iteration: 60 of 500, chi: 16, t-step: 0.100000, energy: -1.264552, energy error: 8.687120e-03\n",
            "iteration: 70 of 500, chi: 16, t-step: 0.100000, energy: -1.264588, energy error: 8.651629e-03\n",
            "iteration: 80 of 500, chi: 16, t-step: 0.100000, energy: -1.264607, energy error: 8.632985e-03\n",
            "iteration: 90 of 500, chi: 16, t-step: 0.100000, energy: -1.264617, energy error: 8.622833e-03\n",
            "iteration: 100 of 500, chi: 16, t-step: 0.100000, energy: -1.264622, energy error: 8.617178e-03\n",
            "iteration: 110 of 500, chi: 16, t-step: 0.100000, energy: -1.264626, energy error: 8.613994e-03\n",
            "iteration: 120 of 500, chi: 16, t-step: 0.100000, energy: -1.264627, energy error: 8.612207e-03\n",
            "iteration: 130 of 500, chi: 16, t-step: 0.100000, energy: -1.264628, energy error: 8.611223e-03\n",
            "iteration: 140 of 500, chi: 16, t-step: 0.100000, energy: -1.264629, energy error: 8.610706e-03\n",
            "iteration: 150 of 500, chi: 16, t-step: 0.100000, energy: -1.264629, energy error: 8.610460e-03\n",
            "iteration: 160 of 500, chi: 16, t-step: 0.100000, energy: -1.264629, energy error: 8.610371e-03\n",
            "iteration: 170 of 500, chi: 16, t-step: 0.100000, energy: -1.264629, energy error: 8.610370e-03\n",
            "iteration: 180 of 500, chi: 16, t-step: 0.100000, energy: -1.264629, energy error: 8.610415e-03\n",
            "iteration: 190 of 500, chi: 16, t-step: 0.100000, energy: -1.264629, energy error: 8.610481e-03\n",
            "iteration: 200 of 500, chi: 16, t-step: 0.100000, energy: -1.264629, energy error: 8.610555e-03\n",
            "iteration: 210 of 500, chi: 16, t-step: 0.100000, energy: -1.264629, energy error: 8.610628e-03\n",
            "iteration: 220 of 500, chi: 16, t-step: 0.100000, energy: -1.264629, energy error: 8.610696e-03\n",
            "iteration: 230 of 500, chi: 16, t-step: 0.100000, energy: -1.264629, energy error: 8.610757e-03\n",
            "iteration: 240 of 500, chi: 16, t-step: 0.100000, energy: -1.264629, energy error: 8.610810e-03\n",
            "iteration: 250 of 500, chi: 16, t-step: 0.100000, energy: -1.264629, energy error: 8.610855e-03\n",
            "iteration: 260 of 500, chi: 16, t-step: 0.100000, energy: -1.264629, energy error: 8.610893e-03\n",
            "iteration: 270 of 500, chi: 16, t-step: 0.100000, energy: -1.264629, energy error: 8.610924e-03\n",
            "iteration: 280 of 500, chi: 16, t-step: 0.100000, energy: -1.264629, energy error: 8.610950e-03\n",
            "iteration: 290 of 500, chi: 16, t-step: 0.100000, energy: -1.264629, energy error: 8.610972e-03\n",
            "iteration: 300 of 500, chi: 16, t-step: 0.100000, energy: -1.264629, energy error: 8.610989e-03\n",
            "iteration: 310 of 500, chi: 16, t-step: 0.100000, energy: -1.264629, energy error: 8.611003e-03\n",
            "iteration: 320 of 500, chi: 16, t-step: 0.100000, energy: -1.264629, energy error: 8.611015e-03\n",
            "iteration: 330 of 500, chi: 16, t-step: 0.100000, energy: -1.264629, energy error: 8.611024e-03\n",
            "iteration: 340 of 500, chi: 16, t-step: 0.100000, energy: -1.264629, energy error: 8.611031e-03\n",
            "iteration: 350 of 500, chi: 16, t-step: 0.100000, energy: -1.264629, energy error: 8.611037e-03\n",
            "iteration: 360 of 500, chi: 16, t-step: 0.100000, energy: -1.264629, energy error: 8.611041e-03\n",
            "iteration: 370 of 500, chi: 16, t-step: 0.100000, energy: -1.264628, energy error: 8.611045e-03\n",
            "iteration: 380 of 500, chi: 16, t-step: 0.100000, energy: -1.264628, energy error: 8.611048e-03\n",
            "iteration: 390 of 500, chi: 16, t-step: 0.100000, energy: -1.264628, energy error: 8.611050e-03\n",
            "iteration: 400 of 500, chi: 16, t-step: 0.100000, energy: -1.264628, energy error: 8.611052e-03\n",
            "iteration: 410 of 500, chi: 16, t-step: 0.100000, energy: -1.264628, energy error: 8.611054e-03\n",
            "iteration: 420 of 500, chi: 16, t-step: 0.100000, energy: -1.264628, energy error: 8.611055e-03\n",
            "iteration: 430 of 500, chi: 16, t-step: 0.100000, energy: -1.264628, energy error: 8.611056e-03\n",
            "iteration: 440 of 500, chi: 16, t-step: 0.100000, energy: -1.264628, energy error: 8.611056e-03\n",
            "iteration: 450 of 500, chi: 16, t-step: 0.100000, energy: -1.264628, energy error: 8.611057e-03\n",
            "iteration: 460 of 500, chi: 16, t-step: 0.100000, energy: -1.264628, energy error: 8.611057e-03\n",
            "iteration: 470 of 500, chi: 16, t-step: 0.100000, energy: -1.264628, energy error: 8.611058e-03\n",
            "iteration: 480 of 500, chi: 16, t-step: 0.100000, energy: -1.264628, energy error: 8.611058e-03\n",
            "iteration: 490 of 500, chi: 16, t-step: 0.100000, energy: -1.264628, energy error: 8.611058e-03\n",
            "iteration: 500 of 500, chi: 16, t-step: 0.100000, energy: -1.264628, energy error: 8.611058e-03\n",
            "iteration: 0 of 2000, chi: 16, t-step: 0.010000, energy: -1.264628, energy error: 8.611058e-03\n",
            "iteration: 100 of 2000, chi: 16, t-step: 0.010000, energy: -1.272554, energy error: 6.852172e-04\n",
            "iteration: 200 of 2000, chi: 16, t-step: 0.010000, energy: -1.272665, energy error: 5.748107e-04\n",
            "iteration: 300 of 2000, chi: 16, t-step: 0.010000, energy: -1.272687, energy error: 5.522486e-04\n",
            "iteration: 400 of 2000, chi: 16, t-step: 0.010000, energy: -1.272696, energy error: 5.433603e-04\n",
            "iteration: 500 of 2000, chi: 16, t-step: 0.010000, energy: -1.272701, energy error: 5.387977e-04\n",
            "iteration: 600 of 2000, chi: 16, t-step: 0.010000, energy: -1.272703, energy error: 5.361818e-04\n",
            "iteration: 700 of 2000, chi: 16, t-step: 0.010000, energy: -1.272705, energy error: 5.345933e-04\n",
            "iteration: 800 of 2000, chi: 16, t-step: 0.010000, energy: -1.272706, energy error: 5.335913e-04\n",
            "iteration: 900 of 2000, chi: 16, t-step: 0.010000, energy: -1.272707, energy error: 5.329405e-04\n",
            "iteration: 1000 of 2000, chi: 16, t-step: 0.010000, energy: -1.272707, energy error: 5.325074e-04\n",
            "iteration: 1100 of 2000, chi: 16, t-step: 0.010000, energy: -1.272707, energy error: 5.322129e-04\n",
            "iteration: 1200 of 2000, chi: 16, t-step: 0.010000, energy: -1.272708, energy error: 5.320089e-04\n",
            "iteration: 1300 of 2000, chi: 16, t-step: 0.010000, energy: -1.272708, energy error: 5.318652e-04\n",
            "iteration: 1400 of 2000, chi: 16, t-step: 0.010000, energy: -1.272708, energy error: 5.317626e-04\n",
            "iteration: 1500 of 2000, chi: 16, t-step: 0.010000, energy: -1.272708, energy error: 5.316883e-04\n",
            "iteration: 1600 of 2000, chi: 16, t-step: 0.010000, energy: -1.272708, energy error: 5.316341e-04\n",
            "iteration: 1700 of 2000, chi: 16, t-step: 0.010000, energy: -1.272708, energy error: 5.315941e-04\n",
            "iteration: 1800 of 2000, chi: 16, t-step: 0.010000, energy: -1.272708, energy error: 5.315644e-04\n",
            "iteration: 1900 of 2000, chi: 16, t-step: 0.010000, energy: -1.272708, energy error: 5.315423e-04\n",
            "iteration: 2000 of 2000, chi: 16, t-step: 0.010000, energy: -1.272708, energy error: 5.315257e-04\n",
            "iteration: 0 of 20000, chi: 16, t-step: 0.001000, energy: -1.272708, energy error: 5.315257e-04\n",
            "iteration: 1000 of 20000, chi: 32, t-step: 0.001000, energy: -1.273054, energy error: 1.851784e-04\n",
            "iteration: 2000 of 20000, chi: 32, t-step: 0.001000, energy: -1.273095, energy error: 1.450376e-04\n",
            "iteration: 3000 of 20000, chi: 32, t-step: 0.001000, energy: -1.273118, energy error: 1.216292e-04\n",
            "iteration: 4000 of 20000, chi: 32, t-step: 0.001000, energy: -1.273133, energy error: 1.060851e-04\n",
            "iteration: 5000 of 20000, chi: 32, t-step: 0.001000, energy: -1.273144, energy error: 9.527242e-05\n",
            "iteration: 6000 of 20000, chi: 32, t-step: 0.001000, energy: -1.273152, energy error: 8.758162e-05\n",
            "iteration: 7000 of 20000, chi: 32, t-step: 0.001000, energy: -1.273158, energy error: 8.202945e-05\n",
            "iteration: 8000 of 20000, chi: 32, t-step: 0.001000, energy: -1.273162, energy error: 7.797445e-05\n",
            "iteration: 9000 of 20000, chi: 32, t-step: 0.001000, energy: -1.273165, energy error: 7.498443e-05\n",
            "iteration: 10000 of 20000, chi: 32, t-step: 0.001000, energy: -1.273167, energy error: 7.276188e-05\n",
            "iteration: 11000 of 20000, chi: 32, t-step: 0.001000, energy: -1.273168, energy error: 7.109854e-05\n",
            "iteration: 12000 of 20000, chi: 32, t-step: 0.001000, energy: -1.273170, energy error: 6.984646e-05\n",
            "iteration: 13000 of 20000, chi: 32, t-step: 0.001000, energy: -1.273171, energy error: 6.889929e-05\n",
            "iteration: 14000 of 20000, chi: 32, t-step: 0.001000, energy: -1.273171, energy error: 6.817975e-05\n",
            "iteration: 15000 of 20000, chi: 32, t-step: 0.001000, energy: -1.273172, energy error: 6.763113e-05\n",
            "iteration: 16000 of 20000, chi: 32, t-step: 0.001000, energy: -1.273172, energy error: 6.721153e-05\n",
            "iteration: 17000 of 20000, chi: 32, t-step: 0.001000, energy: -1.273173, energy error: 6.688975e-05\n",
            "iteration: 18000 of 20000, chi: 32, t-step: 0.001000, energy: -1.273173, energy error: 6.664240e-05\n",
            "iteration: 19000 of 20000, chi: 32, t-step: 0.001000, energy: -1.273173, energy error: 6.645188e-05\n",
            "iteration: 20000 of 20000, chi: 32, t-step: 0.001000, energy: -1.273173, energy error: 6.630489e-05\n",
            "Final results => Bond dim: 32, Energy: -1.273173, Energy Error: 6.630489e-05\n"
          ]
        }
      ],
      "source": [
        "\"\"\" Example 1: XX model \"\"\"\n",
        "\n",
        "# set bond dimensions and simulation options\n",
        "chi = 16  # bond dimension\n",
        "tau = 0.1  # timestep\n",
        "\n",
        "numiter = 500  # number of timesteps\n",
        "evotype = \"imag\"  # real or imaginary time evolution\n",
        "E0 = -4 / np.pi  # specify exact ground energy (if known)\n",
        "midsteps = int(1 / tau)  # timesteps between MPS re-orthogonalization\n",
        "\n",
        "# define Hamiltonian (quantum XX model)\n",
        "sX = np.array([[0, 1], [1, 0]])\n",
        "sY = np.array([[0, -1j], [1j, 0]])\n",
        "sZ = np.array([[1, 0], [0, -1]])\n",
        "hamAB = (np.real(np.kron(sX, sX) + np.kron(sY, sY))).reshape(2, 2, 2, 2)\n",
        "hamBA = (np.real(np.kron(sX, sX) + np.kron(sY, sY))).reshape(2, 2, 2, 2)\n",
        "\n",
        "# initialize tensors\n",
        "d = hamAB.shape[0]\n",
        "sAB = np.ones(chi) / np.sqrt(chi)\n",
        "sBA = np.ones(chi) / np.sqrt(chi)\n",
        "A = np.random.rand(chi, d, chi)\n",
        "B = np.random.rand(chi, d, chi)\n",
        "\n",
        "\"\"\" Imaginary time evolution with TEBD \"\"\"\n",
        "# run TEBD routine\n",
        "A, B, sAB, sBA, rhoAB, rhoBA = doTEBD(hamAB, hamBA, A, B, sAB, sBA, chi,\n",
        "    tau, evotype=evotype, numiter=numiter, midsteps=midsteps, E0=E0)\n",
        "\n",
        "# continute running TEBD routine with reduced timestep\n",
        "tau = 0.01\n",
        "numiter = 2000\n",
        "midsteps = 100\n",
        "A, B, sAB, sBA, rhoAB, rhoBA = doTEBD(hamAB, hamBA, A, B, sAB, sBA, chi,\n",
        "    tau, evotype=evotype, numiter=numiter, midsteps=midsteps, E0=E0)\n",
        "\n",
        "# continute running TEBD routine with reduced timestep and increased bond dim\n",
        "chi = 32\n",
        "tau = 0.001\n",
        "numiter = 20000\n",
        "midsteps = 1000\n",
        "A, B, sAB, sBA, rhoAB, rhoBA = doTEBD(hamAB, hamBA, A, B, sAB, sBA, chi,\n",
        "    tau, evotype=evotype, numiter=numiter, midsteps=midsteps, E0=E0)\n",
        "\n",
        "# compare with exact results\n",
        "energyMPS = np.real(0.5 * ncon([hamAB, rhoAB], [[1, 2, 3, 4], [1, 2, 3, 4]]) +\n",
        "                    0.5 * ncon([hamBA, rhoBA], [[1, 2, 3, 4], [1, 2, 3, 4]]))\n",
        "enErr = abs(energyMPS - E0)\n",
        "print('Final results => Bond dim: %d, Energy: %f, Energy Error: %e' %\n",
        "      (chi, energyMPS, enErr))"
      ]
    }
  ],
  "metadata": {
    "colab": {
      "authorship_tag": "ABX9TyMU5F/c27/JYiEzftUuUYnd",
      "include_colab_link": true,
      "provenance": []
    },
    "kernelspec": {
      "display_name": "Python 3",
      "name": "python3"
    },
    "language_info": {
      "name": "python"
    }
  },
  "nbformat": 4,
  "nbformat_minor": 0
}
